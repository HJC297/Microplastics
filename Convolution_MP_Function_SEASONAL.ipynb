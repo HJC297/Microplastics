{
 "cells": [
  {
   "cell_type": "markdown",
   "metadata": {},
   "source": [
    "# Higgins - Time-Dependent Eulerian Current - Data Generator\n",
    "\n",
    "##### Includes: Seasonal averaging, global viscosity model, deep water linear dispersion"
   ]
  },
  {
   "cell_type": "markdown",
   "metadata": {},
   "source": [
    "## 1. Setting Environment"
   ]
  },
  {
   "cell_type": "code",
   "execution_count": 1,
   "metadata": {},
   "outputs": [
    {
     "name": "stderr",
     "output_type": "stream",
     "text": [
      "/Users/jakecunningham/opt/anaconda3/lib/python3.7/site-packages/tqdm/autonotebook.py:17: TqdmExperimentalWarning: Using `tqdm.autonotebook.tqdm` in notebook mode. Use `tqdm.tqdm` instead to force console mode (e.g. in jupyter console)\n",
      "  \" (e.g. in jupyter console)\", TqdmExperimentalWarning)\n"
     ]
    }
   ],
   "source": [
    "import xarray\n",
    "import matplotlib.pyplot as plt\n",
    "import matplotlib.colors as colors\n",
    "import matplotlib.ticker as mticker\n",
    "import numpy as np\n",
    "import math\n",
    "from datetime import date, timedelta\n",
    "import ftplib\n",
    "import xarray\n",
    "from tqdm.autonotebook import tqdm\n",
    "import glob\n",
    "import cmath\n",
    "import os\n",
    "from mpl_toolkits.axes_grid1.inset_locator import InsetPosition\n",
    "import warnings\n",
    "from scipy import special\n",
    "import time\n",
    "import multiprocessing as mp\n",
    "import itertools\n",
    "import concurrent.futures\n",
    "from matplotlib.collections import LineCollection\n",
    "from datetime import date, datetime, timedelta\n",
    "warnings.filterwarnings(\"ignore\", category=RuntimeWarning) "
   ]
  },
  {
   "cell_type": "markdown",
   "metadata": {},
   "source": [
    "## 2. Data Preparation"
   ]
  },
  {
   "cell_type": "code",
   "execution_count": 2,
   "metadata": {},
   "outputs": [],
   "source": [
    "def loader(path):\n",
    "    paths = glob.glob(path)\n",
    "    paths.sort(key=os.path.getmtime)\n",
    "    file = xarray.open_mfdataset(paths, combine='by_coords')\n",
    "    return file"
   ]
  },
  {
   "cell_type": "code",
   "execution_count": 3,
   "metadata": {},
   "outputs": [],
   "source": [
    "def loader_Stokes(path):\n",
    "    file = xarray.open_mfdataset(path, combine='by_coords')\n",
    "    return file"
   ]
  },
  {
   "cell_type": "code",
   "execution_count": 4,
   "metadata": {},
   "outputs": [],
   "source": [
    "def dates_maker(start,end):\n",
    "    dates = []\n",
    "    current = start\n",
    "    dates.append(current.strftime('%Y%m%d'))\n",
    "    while current < end:\n",
    "        current += timedelta(days=1)\n",
    "        dates.append(current.strftime('%Y%m%d'))\n",
    "    return dates"
   ]
  },
  {
   "cell_type": "code",
   "execution_count": 5,
   "metadata": {},
   "outputs": [],
   "source": [
    "def higgins_convolution_parallel_variable_f_variable_k_equator1(lat):\n",
    "    \n",
    "    kernel_length = 300\n",
    "\n",
    "    global lons\n",
    "    \n",
    "    Ue_point = np.zeros([len(Us_u_array[:,0,0]),1,720]) + 0j\n",
    "    print(lat)\n",
    "            \n",
    "    kernel = np.zeros([300,1]) + 0j\n",
    "\n",
    "    w = 7.2921 * (10**-5) * 3600\n",
    "    latitude = np.linspace(-78,80,317)[lat]\n",
    "    \n",
    "    for lon in tqdm(range(lons)):\n",
    "        latitude_rad = latitude * np.pi/180\n",
    "        f = 2*w*np.sin(latitude_rad)\n",
    "        v = Az_array[lat,lon] * 3600\n",
    "        k = k_array[lat,lon]\n",
    "\n",
    "        for n in range(kernel_length):\n",
    "            if n > 0:\n",
    "                t = 3*n\n",
    "                K = (((2*k*(v**0.5))/((t*np.pi)**0.5)))*np.exp(-1j*f*t) - ((1j*f*np.exp(-1j*f*t)) *special.erfcx((4*k*k*v*t)**0.5))\n",
    "                kernel[n-1] = K\n",
    "    \n",
    "        U_forcing_list = Us_u_array[:,lat,lon] + (1j * Us_v_array[:,lat,lon])\n",
    "    \n",
    "        if math.isnan(U_forcing_list[0]) == 0:\n",
    "            U_forcing = np.reshape(U_forcing_list, (1,len(U_forcing_list)))\n",
    "    \n",
    "            for i in range(len(U_forcing_list)-1):\n",
    "                j = i+1\n",
    "                if j <= kernel_length:\n",
    "                    Us = U_forcing[0][:j]\n",
    "                    K = kernel[:j]\n",
    "                    Us_reverse = np.flip(Us)\n",
    "                    Us_vector = np.reshape(Us_reverse, (1,j))\n",
    "                else:\n",
    "                    Us = U_forcing[0][j-kernel_length:j]\n",
    "                    K = kernel[:kernel_length]\n",
    "                    Us_reverse = np.flip(Us)\n",
    "                    Us_vector = np.reshape(Us_reverse, (1,kernel_length))\n",
    "                matrix = np.dot(K,Us_vector)\n",
    "                Ue = sum(np.diag(matrix))\n",
    "                Ue_point[i+1,0,lon]=Ue*3\n",
    "                \n",
    "    del kernel\n",
    "        \n",
    "    return Ue_point"
   ]
  },
  {
   "cell_type": "code",
   "execution_count": 6,
   "metadata": {},
   "outputs": [],
   "source": [
    "start = datetime(2002,1,1)\n",
    "end = datetime(2014,12,31)\n",
    "delta = timedelta(days=1)\n",
    "dates = []\n",
    "current = start\n",
    "dates.append(current.strftime('%Y%m%d'))\n",
    "while current < end:\n",
    "    current += delta\n",
    "    dates.append(current.strftime('%Y%m%d'))"
   ]
  },
  {
   "cell_type": "code",
   "execution_count": 7,
   "metadata": {},
   "outputs": [
    {
     "data": {
      "text/plain": [
       "54"
      ]
     },
     "execution_count": 7,
     "metadata": {},
     "output_type": "execute_result"
    }
   ],
   "source": [
    "years = np.linspace(2002,2014,13)\n",
    "\n",
    "start = []\n",
    "end = []\n",
    "\n",
    "start.append(datetime(2002,1,1).strftime('%Y%m%d'))\n",
    "end.append(datetime(2002,2,28).strftime('%Y%m%d'))\n",
    "\n",
    "for year in years:\n",
    "    year = int(year)\n",
    "    spring_start = datetime(year,3,1)\n",
    "    spring_end = datetime(year,5,31)\n",
    "    start.append(spring_start.strftime('%Y%m%d'))\n",
    "    end.append(spring_end.strftime('%Y%m%d'))\n",
    "    \n",
    "    summer_start = datetime(year,6,1)\n",
    "    summer_end = datetime(year,8,31)\n",
    "    start.append(summer_start.strftime('%Y%m%d'))\n",
    "    end.append(summer_end.strftime('%Y%m%d'))\n",
    "    \n",
    "    autumn_start = datetime(year,9,1)\n",
    "    autumn_end = datetime(year,11,30)\n",
    "    start.append(autumn_start.strftime('%Y%m%d'))\n",
    "    end.append(autumn_end.strftime('%Y%m%d'))\n",
    "    \n",
    "    winter_start = datetime(year,12,1)\n",
    "    winter_end = datetime(year+1,2,28)\n",
    "    start.append(winter_start.strftime('%Y%m%d'))\n",
    "    end.append(winter_end.strftime('%Y%m%d'))\n",
    "    \n",
    "end[end.index('20040228')] = '20040229'\n",
    "end[end.index('20080228')] = '20080229'\n",
    "end[end.index('20120228')] = '20120229'\n",
    "\n",
    "index_start = []\n",
    "for d in start:\n",
    "    index_start.append(dates.index(d)*8)\n",
    "index_start.append(37984)\n",
    "\n",
    "len(index_start)"
   ]
  },
  {
   "cell_type": "code",
   "execution_count": 8,
   "metadata": {},
   "outputs": [
    {
     "name": "stdout",
     "output_type": "stream",
     "text": [
      "[0, 472, 1208, 1944, 2672, 3392, 4128, 4864, 5592, 6320, 7056, 7792, 8520, 9240, 9976, 10712, 11440, 12160, 12896, 13632, 14360, 15080, 15816, 16552, 17280, 18008, 18744, 19480, 20208, 20928, 21664, 22400, 23128, 23848, 24584, 25320, 26048, 26768, 27504, 28240, 28968, 29696, 30432, 31168, 31896, 32616, 33352, 34088, 34816, 35536, 36272, 37008, 37736, 37984]\n"
     ]
    }
   ],
   "source": [
    "print(index_start)"
   ]
  },
  {
   "cell_type": "code",
   "execution_count": 12,
   "metadata": {},
   "outputs": [
    {
     "name": "stdout",
     "output_type": "stream",
     "text": [
      "37984\n"
     ]
    },
    {
     "data": {
      "application/vnd.jupyter.widget-view+json": {
       "model_id": "45e237f04036417d9939e2c575e41281",
       "version_major": 2,
       "version_minor": 0
      },
      "text/plain": [
       "HBox(children=(IntProgress(value=0, max=317), HTML(value='')))"
      ]
     },
     "metadata": {},
     "output_type": "display_data"
    },
    {
     "name": "stdout",
     "output_type": "stream",
     "text": [
      "0\n",
      "7\n",
      "42\n",
      "56\n",
      "14\n",
      "49\n",
      "35\n",
      "28\n",
      "21\n",
      "63\n",
      "70\n",
      "77\n"
     ]
    },
    {
     "data": {
      "application/vnd.jupyter.widget-view+json": {
       "model_id": "dcb3286fa092493a965e0f159bf2d865",
       "version_major": 2,
       "version_minor": 0
      },
      "text/plain": [
       "HBox(children=(IntProgress(value=0, max=720), HTML(value='')))"
      ]
     },
     "metadata": {},
     "output_type": "display_data"
    },
    {
     "data": {
      "application/vnd.jupyter.widget-view+json": {
       "model_id": "ab4f18ff6892458ba8da1ac9c70a8511",
       "version_major": 2,
       "version_minor": 0
      },
      "text/plain": [
       "HBox(children=(IntProgress(value=0, max=720), HTML(value='')))"
      ]
     },
     "metadata": {},
     "output_type": "display_data"
    },
    {
     "data": {
      "application/vnd.jupyter.widget-view+json": {
       "model_id": "39ff4ca6e10f4f27ac480f411287fd89",
       "version_major": 2,
       "version_minor": 0
      },
      "text/plain": [
       "HBox(children=(IntProgress(value=0, max=720), HTML(value='')))"
      ]
     },
     "metadata": {},
     "output_type": "display_data"
    },
    {
     "data": {
      "application/vnd.jupyter.widget-view+json": {
       "model_id": "77a269b4e25d4dd1b188060930afb491",
       "version_major": 2,
       "version_minor": 0
      },
      "text/plain": [
       "HBox(children=(IntProgress(value=0, max=720), HTML(value='')))"
      ]
     },
     "metadata": {},
     "output_type": "display_data"
    },
    {
     "data": {
      "application/vnd.jupyter.widget-view+json": {
       "model_id": "e820bace385e4e4abd15f7694a69955c",
       "version_major": 2,
       "version_minor": 0
      },
      "text/plain": [
       "HBox(children=(IntProgress(value=0, max=720), HTML(value='')))"
      ]
     },
     "metadata": {},
     "output_type": "display_data"
    },
    {
     "data": {
      "application/vnd.jupyter.widget-view+json": {
       "model_id": "44c8c5b59d0e48b4aba9ef41aa33a714",
       "version_major": 2,
       "version_minor": 0
      },
      "text/plain": [
       "HBox(children=(IntProgress(value=0, max=720), HTML(value='')))"
      ]
     },
     "metadata": {},
     "output_type": "display_data"
    },
    {
     "data": {
      "application/vnd.jupyter.widget-view+json": {
       "model_id": "75f03e3269f940edbfdee0253be9655c",
       "version_major": 2,
       "version_minor": 0
      },
      "text/plain": [
       "HBox(children=(IntProgress(value=0, max=720), HTML(value='')))"
      ]
     },
     "metadata": {},
     "output_type": "display_data"
    },
    {
     "data": {
      "application/vnd.jupyter.widget-view+json": {
       "model_id": "420ef8f05f7c485e86add934f2935994",
       "version_major": 2,
       "version_minor": 0
      },
      "text/plain": [
       "HBox(children=(IntProgress(value=0, max=720), HTML(value='')))"
      ]
     },
     "metadata": {},
     "output_type": "display_data"
    },
    {
     "data": {
      "application/vnd.jupyter.widget-view+json": {
       "model_id": "8db05c686ba9460fb718c850102273be",
       "version_major": 2,
       "version_minor": 0
      },
      "text/plain": [
       "HBox(children=(IntProgress(value=0, max=720), HTML(value='')))"
      ]
     },
     "metadata": {},
     "output_type": "display_data"
    },
    {
     "data": {
      "application/vnd.jupyter.widget-view+json": {
       "model_id": "f3332e8a4bd24a248632fe2b1ae59406",
       "version_major": 2,
       "version_minor": 0
      },
      "text/plain": [
       "HBox(children=(IntProgress(value=0, max=720), HTML(value='')))"
      ]
     },
     "metadata": {},
     "output_type": "display_data"
    },
    {
     "data": {
      "application/vnd.jupyter.widget-view+json": {
       "model_id": "11ebb60afdb742f8885cce5458fe8f3a",
       "version_major": 2,
       "version_minor": 0
      },
      "text/plain": [
       "HBox(children=(IntProgress(value=0, max=720), HTML(value='')))"
      ]
     },
     "metadata": {},
     "output_type": "display_data"
    },
    {
     "data": {
      "application/vnd.jupyter.widget-view+json": {
       "model_id": "eca0225b5a034f1681cac96f34c6b700",
       "version_major": 2,
       "version_minor": 0
      },
      "text/plain": [
       "HBox(children=(IntProgress(value=0, max=720), HTML(value='')))"
      ]
     },
     "metadata": {},
     "output_type": "display_data"
    },
    {
     "name": "stdout",
     "output_type": "stream",
     "text": [
      "\n",
      "\n",
      "1\n"
     ]
    },
    {
     "name": "stderr",
     "output_type": "stream",
     "text": [
      "Process ForkPoolWorker-1:\n",
      "Process ForkPoolWorker-8:\n",
      "Process ForkPoolWorker-9:\n",
      "Process ForkPoolWorker-4:\n",
      "Process ForkPoolWorker-6:\n",
      "Process ForkPoolWorker-10:\n",
      "Process ForkPoolWorker-7:\n",
      "Process ForkPoolWorker-12:\n",
      "Process ForkPoolWorker-2:\n",
      "Process ForkPoolWorker-11:\n",
      "Process ForkPoolWorker-5:\n",
      "Process ForkPoolWorker-3:\n",
      "Traceback (most recent call last):\n",
      "Traceback (most recent call last):\n",
      "Traceback (most recent call last):\n",
      "Traceback (most recent call last):\n"
     ]
    },
    {
     "ename": "KeyboardInterrupt",
     "evalue": "",
     "output_type": "error",
     "traceback": [
      "\u001b[0;31m---------------------------------------------------------------------------\u001b[0m",
      "\u001b[0;31mKeyboardInterrupt\u001b[0m                         Traceback (most recent call last)",
      "\u001b[0;32m<ipython-input-12-8cb3215e7d17>\u001b[0m in \u001b[0;36m<module>\u001b[0;34m\u001b[0m\n\u001b[1;32m     67\u001b[0m     \u001b[0mcpus\u001b[0m \u001b[0;34m=\u001b[0m \u001b[0mmp\u001b[0m\u001b[0;34m.\u001b[0m\u001b[0mcpu_count\u001b[0m\u001b[0;34m(\u001b[0m\u001b[0;34m)\u001b[0m\u001b[0;34m\u001b[0m\u001b[0;34m\u001b[0m\u001b[0m\n\u001b[1;32m     68\u001b[0m     \u001b[0mp\u001b[0m\u001b[0;34m=\u001b[0m\u001b[0mmp\u001b[0m\u001b[0;34m.\u001b[0m\u001b[0mPool\u001b[0m\u001b[0;34m(\u001b[0m\u001b[0mcpus\u001b[0m\u001b[0;34m)\u001b[0m\u001b[0;34m\u001b[0m\u001b[0;34m\u001b[0m\u001b[0m\n\u001b[0;32m---> 69\u001b[0;31m     \u001b[0moutput\u001b[0m \u001b[0;34m=\u001b[0m \u001b[0mp\u001b[0m\u001b[0;34m.\u001b[0m\u001b[0mmap\u001b[0m\u001b[0;34m(\u001b[0m\u001b[0mhiggins_convolution_parallel_variable_f_variable_k_equator1\u001b[0m\u001b[0;34m,\u001b[0m \u001b[0mtqdm\u001b[0m\u001b[0;34m(\u001b[0m\u001b[0mlat\u001b[0m\u001b[0;34m)\u001b[0m\u001b[0;34m)\u001b[0m\u001b[0;34m\u001b[0m\u001b[0;34m\u001b[0m\u001b[0m\n\u001b[0m\u001b[1;32m     70\u001b[0m     \u001b[0mdata\u001b[0m \u001b[0;34m=\u001b[0m \u001b[0mnp\u001b[0m\u001b[0;34m.\u001b[0m\u001b[0mconcatenate\u001b[0m\u001b[0;34m(\u001b[0m\u001b[0moutput\u001b[0m\u001b[0;34m,\u001b[0m \u001b[0maxis\u001b[0m\u001b[0;34m=\u001b[0m\u001b[0;36m1\u001b[0m\u001b[0;34m)\u001b[0m\u001b[0;34m\u001b[0m\u001b[0;34m\u001b[0m\u001b[0m\n\u001b[1;32m     71\u001b[0m \u001b[0;34m\u001b[0m\u001b[0m\n",
      "\u001b[0;32m~/opt/anaconda3/lib/python3.7/multiprocessing/pool.py\u001b[0m in \u001b[0;36mmap\u001b[0;34m(self, func, iterable, chunksize)\u001b[0m\n\u001b[1;32m    266\u001b[0m         \u001b[0;32min\u001b[0m \u001b[0ma\u001b[0m \u001b[0mlist\u001b[0m \u001b[0mthat\u001b[0m \u001b[0;32mis\u001b[0m \u001b[0mreturned\u001b[0m\u001b[0;34m.\u001b[0m\u001b[0;34m\u001b[0m\u001b[0;34m\u001b[0m\u001b[0m\n\u001b[1;32m    267\u001b[0m         '''\n\u001b[0;32m--> 268\u001b[0;31m         \u001b[0;32mreturn\u001b[0m \u001b[0mself\u001b[0m\u001b[0;34m.\u001b[0m\u001b[0m_map_async\u001b[0m\u001b[0;34m(\u001b[0m\u001b[0mfunc\u001b[0m\u001b[0;34m,\u001b[0m \u001b[0miterable\u001b[0m\u001b[0;34m,\u001b[0m \u001b[0mmapstar\u001b[0m\u001b[0;34m,\u001b[0m \u001b[0mchunksize\u001b[0m\u001b[0;34m)\u001b[0m\u001b[0;34m.\u001b[0m\u001b[0mget\u001b[0m\u001b[0;34m(\u001b[0m\u001b[0;34m)\u001b[0m\u001b[0;34m\u001b[0m\u001b[0;34m\u001b[0m\u001b[0m\n\u001b[0m\u001b[1;32m    269\u001b[0m \u001b[0;34m\u001b[0m\u001b[0m\n\u001b[1;32m    270\u001b[0m     \u001b[0;32mdef\u001b[0m \u001b[0mstarmap\u001b[0m\u001b[0;34m(\u001b[0m\u001b[0mself\u001b[0m\u001b[0;34m,\u001b[0m \u001b[0mfunc\u001b[0m\u001b[0;34m,\u001b[0m \u001b[0miterable\u001b[0m\u001b[0;34m,\u001b[0m \u001b[0mchunksize\u001b[0m\u001b[0;34m=\u001b[0m\u001b[0;32mNone\u001b[0m\u001b[0;34m)\u001b[0m\u001b[0;34m:\u001b[0m\u001b[0;34m\u001b[0m\u001b[0;34m\u001b[0m\u001b[0m\n",
      "\u001b[0;32m~/opt/anaconda3/lib/python3.7/multiprocessing/pool.py\u001b[0m in \u001b[0;36mget\u001b[0;34m(self, timeout)\u001b[0m\n\u001b[1;32m    649\u001b[0m \u001b[0;34m\u001b[0m\u001b[0m\n\u001b[1;32m    650\u001b[0m     \u001b[0;32mdef\u001b[0m \u001b[0mget\u001b[0m\u001b[0;34m(\u001b[0m\u001b[0mself\u001b[0m\u001b[0;34m,\u001b[0m \u001b[0mtimeout\u001b[0m\u001b[0;34m=\u001b[0m\u001b[0;32mNone\u001b[0m\u001b[0;34m)\u001b[0m\u001b[0;34m:\u001b[0m\u001b[0;34m\u001b[0m\u001b[0;34m\u001b[0m\u001b[0m\n\u001b[0;32m--> 651\u001b[0;31m         \u001b[0mself\u001b[0m\u001b[0;34m.\u001b[0m\u001b[0mwait\u001b[0m\u001b[0;34m(\u001b[0m\u001b[0mtimeout\u001b[0m\u001b[0;34m)\u001b[0m\u001b[0;34m\u001b[0m\u001b[0;34m\u001b[0m\u001b[0m\n\u001b[0m\u001b[1;32m    652\u001b[0m         \u001b[0;32mif\u001b[0m \u001b[0;32mnot\u001b[0m \u001b[0mself\u001b[0m\u001b[0;34m.\u001b[0m\u001b[0mready\u001b[0m\u001b[0;34m(\u001b[0m\u001b[0;34m)\u001b[0m\u001b[0;34m:\u001b[0m\u001b[0;34m\u001b[0m\u001b[0;34m\u001b[0m\u001b[0m\n\u001b[1;32m    653\u001b[0m             \u001b[0;32mraise\u001b[0m \u001b[0mTimeoutError\u001b[0m\u001b[0;34m\u001b[0m\u001b[0;34m\u001b[0m\u001b[0m\n",
      "\u001b[0;32m~/opt/anaconda3/lib/python3.7/multiprocessing/pool.py\u001b[0m in \u001b[0;36mwait\u001b[0;34m(self, timeout)\u001b[0m\n\u001b[1;32m    646\u001b[0m \u001b[0;34m\u001b[0m\u001b[0m\n\u001b[1;32m    647\u001b[0m     \u001b[0;32mdef\u001b[0m \u001b[0mwait\u001b[0m\u001b[0;34m(\u001b[0m\u001b[0mself\u001b[0m\u001b[0;34m,\u001b[0m \u001b[0mtimeout\u001b[0m\u001b[0;34m=\u001b[0m\u001b[0;32mNone\u001b[0m\u001b[0;34m)\u001b[0m\u001b[0;34m:\u001b[0m\u001b[0;34m\u001b[0m\u001b[0;34m\u001b[0m\u001b[0m\n\u001b[0;32m--> 648\u001b[0;31m         \u001b[0mself\u001b[0m\u001b[0;34m.\u001b[0m\u001b[0m_event\u001b[0m\u001b[0;34m.\u001b[0m\u001b[0mwait\u001b[0m\u001b[0;34m(\u001b[0m\u001b[0mtimeout\u001b[0m\u001b[0;34m)\u001b[0m\u001b[0;34m\u001b[0m\u001b[0;34m\u001b[0m\u001b[0m\n\u001b[0m\u001b[1;32m    649\u001b[0m \u001b[0;34m\u001b[0m\u001b[0m\n\u001b[1;32m    650\u001b[0m     \u001b[0;32mdef\u001b[0m \u001b[0mget\u001b[0m\u001b[0;34m(\u001b[0m\u001b[0mself\u001b[0m\u001b[0;34m,\u001b[0m \u001b[0mtimeout\u001b[0m\u001b[0;34m=\u001b[0m\u001b[0;32mNone\u001b[0m\u001b[0;34m)\u001b[0m\u001b[0;34m:\u001b[0m\u001b[0;34m\u001b[0m\u001b[0;34m\u001b[0m\u001b[0m\n",
      "\u001b[0;32m~/opt/anaconda3/lib/python3.7/threading.py\u001b[0m in \u001b[0;36mwait\u001b[0;34m(self, timeout)\u001b[0m\n\u001b[1;32m    550\u001b[0m             \u001b[0msignaled\u001b[0m \u001b[0;34m=\u001b[0m \u001b[0mself\u001b[0m\u001b[0;34m.\u001b[0m\u001b[0m_flag\u001b[0m\u001b[0;34m\u001b[0m\u001b[0;34m\u001b[0m\u001b[0m\n\u001b[1;32m    551\u001b[0m             \u001b[0;32mif\u001b[0m \u001b[0;32mnot\u001b[0m \u001b[0msignaled\u001b[0m\u001b[0;34m:\u001b[0m\u001b[0;34m\u001b[0m\u001b[0;34m\u001b[0m\u001b[0m\n\u001b[0;32m--> 552\u001b[0;31m                 \u001b[0msignaled\u001b[0m \u001b[0;34m=\u001b[0m \u001b[0mself\u001b[0m\u001b[0;34m.\u001b[0m\u001b[0m_cond\u001b[0m\u001b[0;34m.\u001b[0m\u001b[0mwait\u001b[0m\u001b[0;34m(\u001b[0m\u001b[0mtimeout\u001b[0m\u001b[0;34m)\u001b[0m\u001b[0;34m\u001b[0m\u001b[0;34m\u001b[0m\u001b[0m\n\u001b[0m\u001b[1;32m    553\u001b[0m             \u001b[0;32mreturn\u001b[0m \u001b[0msignaled\u001b[0m\u001b[0;34m\u001b[0m\u001b[0;34m\u001b[0m\u001b[0m\n\u001b[1;32m    554\u001b[0m \u001b[0;34m\u001b[0m\u001b[0m\n",
      "\u001b[0;32m~/opt/anaconda3/lib/python3.7/threading.py\u001b[0m in \u001b[0;36mwait\u001b[0;34m(self, timeout)\u001b[0m\n\u001b[1;32m    294\u001b[0m         \u001b[0;32mtry\u001b[0m\u001b[0;34m:\u001b[0m    \u001b[0;31m# restore state no matter what (e.g., KeyboardInterrupt)\u001b[0m\u001b[0;34m\u001b[0m\u001b[0;34m\u001b[0m\u001b[0m\n\u001b[1;32m    295\u001b[0m             \u001b[0;32mif\u001b[0m \u001b[0mtimeout\u001b[0m \u001b[0;32mis\u001b[0m \u001b[0;32mNone\u001b[0m\u001b[0;34m:\u001b[0m\u001b[0;34m\u001b[0m\u001b[0;34m\u001b[0m\u001b[0m\n\u001b[0;32m--> 296\u001b[0;31m                 \u001b[0mwaiter\u001b[0m\u001b[0;34m.\u001b[0m\u001b[0macquire\u001b[0m\u001b[0;34m(\u001b[0m\u001b[0;34m)\u001b[0m\u001b[0;34m\u001b[0m\u001b[0;34m\u001b[0m\u001b[0m\n\u001b[0m\u001b[1;32m    297\u001b[0m                 \u001b[0mgotit\u001b[0m \u001b[0;34m=\u001b[0m \u001b[0;32mTrue\u001b[0m\u001b[0;34m\u001b[0m\u001b[0;34m\u001b[0m\u001b[0m\n\u001b[1;32m    298\u001b[0m             \u001b[0;32melse\u001b[0m\u001b[0;34m:\u001b[0m\u001b[0;34m\u001b[0m\u001b[0;34m\u001b[0m\u001b[0m\n",
      "\u001b[0;31mKeyboardInterrupt\u001b[0m: "
     ]
    },
    {
     "name": "stderr",
     "output_type": "stream",
     "text": [
      "Traceback (most recent call last):\n",
      "Traceback (most recent call last):\n",
      "Traceback (most recent call last):\n",
      "  File \"/Users/jakecunningham/opt/anaconda3/lib/python3.7/multiprocessing/process.py\", line 297, in _bootstrap\n",
      "    self.run()\n",
      "  File \"/Users/jakecunningham/opt/anaconda3/lib/python3.7/multiprocessing/process.py\", line 297, in _bootstrap\n",
      "    self.run()\n",
      "  File \"/Users/jakecunningham/opt/anaconda3/lib/python3.7/multiprocessing/process.py\", line 297, in _bootstrap\n",
      "    self.run()\n",
      "Traceback (most recent call last):\n",
      "  File \"/Users/jakecunningham/opt/anaconda3/lib/python3.7/multiprocessing/process.py\", line 297, in _bootstrap\n",
      "    self.run()\n",
      "  File \"/Users/jakecunningham/opt/anaconda3/lib/python3.7/multiprocessing/process.py\", line 297, in _bootstrap\n",
      "    self.run()\n",
      "Traceback (most recent call last):\n",
      "Traceback (most recent call last):\n",
      "  File \"/Users/jakecunningham/opt/anaconda3/lib/python3.7/multiprocessing/process.py\", line 297, in _bootstrap\n",
      "    self.run()\n",
      "Traceback (most recent call last):\n",
      "  File \"/Users/jakecunningham/opt/anaconda3/lib/python3.7/multiprocessing/process.py\", line 99, in run\n",
      "    self._target(*self._args, **self._kwargs)\n",
      "  File \"/Users/jakecunningham/opt/anaconda3/lib/python3.7/multiprocessing/process.py\", line 297, in _bootstrap\n",
      "    self.run()\n",
      "  File \"/Users/jakecunningham/opt/anaconda3/lib/python3.7/multiprocessing/process.py\", line 297, in _bootstrap\n",
      "    self.run()\n",
      "  File \"/Users/jakecunningham/opt/anaconda3/lib/python3.7/multiprocessing/process.py\", line 99, in run\n",
      "    self._target(*self._args, **self._kwargs)\n",
      "  File \"/Users/jakecunningham/opt/anaconda3/lib/python3.7/multiprocessing/process.py\", line 99, in run\n",
      "    self._target(*self._args, **self._kwargs)\n",
      "  File \"/Users/jakecunningham/opt/anaconda3/lib/python3.7/multiprocessing/process.py\", line 297, in _bootstrap\n",
      "    self.run()\n",
      "  File \"/Users/jakecunningham/opt/anaconda3/lib/python3.7/multiprocessing/process.py\", line 99, in run\n",
      "    self._target(*self._args, **self._kwargs)\n",
      "  File \"/Users/jakecunningham/opt/anaconda3/lib/python3.7/multiprocessing/process.py\", line 297, in _bootstrap\n",
      "    self.run()\n",
      "  File \"/Users/jakecunningham/opt/anaconda3/lib/python3.7/multiprocessing/process.py\", line 99, in run\n",
      "    self._target(*self._args, **self._kwargs)\n",
      "  File \"/Users/jakecunningham/opt/anaconda3/lib/python3.7/multiprocessing/process.py\", line 99, in run\n",
      "    self._target(*self._args, **self._kwargs)\n",
      "  File \"/Users/jakecunningham/opt/anaconda3/lib/python3.7/multiprocessing/process.py\", line 297, in _bootstrap\n",
      "    self.run()\n",
      "  File \"/Users/jakecunningham/opt/anaconda3/lib/python3.7/multiprocessing/process.py\", line 99, in run\n",
      "    self._target(*self._args, **self._kwargs)\n",
      "  File \"/Users/jakecunningham/opt/anaconda3/lib/python3.7/multiprocessing/pool.py\", line 121, in worker\n",
      "    result = (True, func(*args, **kwds))\n",
      "  File \"/Users/jakecunningham/opt/anaconda3/lib/python3.7/multiprocessing/process.py\", line 99, in run\n",
      "    self._target(*self._args, **self._kwargs)\n",
      "  File \"/Users/jakecunningham/opt/anaconda3/lib/python3.7/multiprocessing/pool.py\", line 121, in worker\n",
      "    result = (True, func(*args, **kwds))\n",
      "  File \"/Users/jakecunningham/opt/anaconda3/lib/python3.7/multiprocessing/pool.py\", line 121, in worker\n",
      "    result = (True, func(*args, **kwds))\n",
      "  File \"/Users/jakecunningham/opt/anaconda3/lib/python3.7/multiprocessing/process.py\", line 99, in run\n",
      "    self._target(*self._args, **self._kwargs)\n",
      "  File \"/Users/jakecunningham/opt/anaconda3/lib/python3.7/multiprocessing/pool.py\", line 121, in worker\n",
      "    result = (True, func(*args, **kwds))\n",
      "  File \"/Users/jakecunningham/opt/anaconda3/lib/python3.7/multiprocessing/process.py\", line 99, in run\n",
      "    self._target(*self._args, **self._kwargs)\n",
      "  File \"/Users/jakecunningham/opt/anaconda3/lib/python3.7/multiprocessing/pool.py\", line 121, in worker\n",
      "    result = (True, func(*args, **kwds))\n",
      "  File \"/Users/jakecunningham/opt/anaconda3/lib/python3.7/multiprocessing/process.py\", line 99, in run\n",
      "    self._target(*self._args, **self._kwargs)\n",
      "  File \"/Users/jakecunningham/opt/anaconda3/lib/python3.7/multiprocessing/pool.py\", line 44, in mapstar\n",
      "    return list(map(*args))\n",
      "  File \"/Users/jakecunningham/opt/anaconda3/lib/python3.7/multiprocessing/pool.py\", line 121, in worker\n",
      "    result = (True, func(*args, **kwds))\n",
      "  File \"/Users/jakecunningham/opt/anaconda3/lib/python3.7/multiprocessing/pool.py\", line 121, in worker\n",
      "    result = (True, func(*args, **kwds))\n",
      "  File \"/Users/jakecunningham/opt/anaconda3/lib/python3.7/multiprocessing/pool.py\", line 121, in worker\n",
      "    result = (True, func(*args, **kwds))\n",
      "  File \"/Users/jakecunningham/opt/anaconda3/lib/python3.7/multiprocessing/pool.py\", line 44, in mapstar\n",
      "    return list(map(*args))\n",
      "  File \"/Users/jakecunningham/opt/anaconda3/lib/python3.7/multiprocessing/pool.py\", line 44, in mapstar\n",
      "    return list(map(*args))\n",
      "  File \"/Users/jakecunningham/opt/anaconda3/lib/python3.7/multiprocessing/pool.py\", line 121, in worker\n",
      "    result = (True, func(*args, **kwds))\n",
      "  File \"/Users/jakecunningham/opt/anaconda3/lib/python3.7/multiprocessing/pool.py\", line 121, in worker\n",
      "    result = (True, func(*args, **kwds))\n",
      "  File \"/Users/jakecunningham/opt/anaconda3/lib/python3.7/multiprocessing/pool.py\", line 44, in mapstar\n",
      "    return list(map(*args))\n",
      "  File \"<ipython-input-5-a9fbf9a3d37d>\", line 44, in higgins_convolution_parallel_variable_f_variable_k_equator1\n",
      "    matrix = np.dot(K,Us_vector)\n",
      "  File \"/Users/jakecunningham/opt/anaconda3/lib/python3.7/multiprocessing/pool.py\", line 121, in worker\n",
      "    result = (True, func(*args, **kwds))\n",
      "  File \"/Users/jakecunningham/opt/anaconda3/lib/python3.7/multiprocessing/pool.py\", line 44, in mapstar\n",
      "    return list(map(*args))\n",
      "  File \"/Users/jakecunningham/opt/anaconda3/lib/python3.7/multiprocessing/pool.py\", line 44, in mapstar\n",
      "    return list(map(*args))\n",
      "  File \"/Users/jakecunningham/opt/anaconda3/lib/python3.7/multiprocessing/pool.py\", line 44, in mapstar\n",
      "    return list(map(*args))\n",
      "  File \"<ipython-input-5-a9fbf9a3d37d>\", line 45, in higgins_convolution_parallel_variable_f_variable_k_equator1\n",
      "    Ue = sum(np.diag(matrix))\n",
      "  File \"<ipython-input-5-a9fbf9a3d37d>\", line 44, in higgins_convolution_parallel_variable_f_variable_k_equator1\n",
      "    matrix = np.dot(K,Us_vector)\n",
      "  File \"/Users/jakecunningham/opt/anaconda3/lib/python3.7/multiprocessing/pool.py\", line 44, in mapstar\n",
      "    return list(map(*args))\n",
      "  File \"<ipython-input-5-a9fbf9a3d37d>\", line 44, in higgins_convolution_parallel_variable_f_variable_k_equator1\n",
      "    matrix = np.dot(K,Us_vector)\n",
      "  File \"/Users/jakecunningham/opt/anaconda3/lib/python3.7/multiprocessing/pool.py\", line 44, in mapstar\n",
      "    return list(map(*args))\n",
      "  File \"<__array_function__ internals>\", line 6, in dot\n",
      "  File \"/Users/jakecunningham/opt/anaconda3/lib/python3.7/multiprocessing/pool.py\", line 44, in mapstar\n",
      "    return list(map(*args))\n",
      "  File \"<ipython-input-5-a9fbf9a3d37d>\", line 44, in higgins_convolution_parallel_variable_f_variable_k_equator1\n",
      "    matrix = np.dot(K,Us_vector)\n",
      "  File \"<ipython-input-5-a9fbf9a3d37d>\", line 44, in higgins_convolution_parallel_variable_f_variable_k_equator1\n",
      "    matrix = np.dot(K,Us_vector)\n",
      "  File \"<ipython-input-5-a9fbf9a3d37d>\", line 44, in higgins_convolution_parallel_variable_f_variable_k_equator1\n",
      "    matrix = np.dot(K,Us_vector)\n",
      "  File \"/Users/jakecunningham/opt/anaconda3/lib/python3.7/multiprocessing/pool.py\", line 44, in mapstar\n",
      "    return list(map(*args))\n",
      "  File \"<ipython-input-5-a9fbf9a3d37d>\", line 44, in higgins_convolution_parallel_variable_f_variable_k_equator1\n",
      "    matrix = np.dot(K,Us_vector)\n",
      "KeyboardInterrupt\n",
      "  File \"<__array_function__ internals>\", line 6, in dot\n",
      "  File \"<ipython-input-5-a9fbf9a3d37d>\", line 44, in higgins_convolution_parallel_variable_f_variable_k_equator1\n",
      "    matrix = np.dot(K,Us_vector)\n",
      "KeyboardInterrupt\n",
      "  File \"<__array_function__ internals>\", line 6, in dot\n",
      "  File \"<ipython-input-5-a9fbf9a3d37d>\", line 44, in higgins_convolution_parallel_variable_f_variable_k_equator1\n",
      "    matrix = np.dot(K,Us_vector)\n",
      "  File \"<__array_function__ internals>\", line 6, in dot\n",
      "  File \"<__array_function__ internals>\", line 6, in dot\n",
      "  File \"<__array_function__ internals>\", line 6, in dot\n",
      "  File \"<ipython-input-5-a9fbf9a3d37d>\", line 45, in higgins_convolution_parallel_variable_f_variable_k_equator1\n",
      "    Ue = sum(np.diag(matrix))\n",
      "  File \"<__array_function__ internals>\", line 6, in dot\n",
      "KeyboardInterrupt\n",
      "  File \"<__array_function__ internals>\", line 6, in dot\n",
      "  File \"<__array_function__ internals>\", line 6, in dot\n",
      "KeyboardInterrupt\n",
      "KeyboardInterrupt\n",
      "  File \"<__array_function__ internals>\", line 6, in diag\n",
      "KeyboardInterrupt\n",
      "KeyboardInterrupt\n",
      "KeyboardInterrupt\n",
      "Traceback (most recent call last):\n",
      "KeyboardInterrupt\n",
      "KeyboardInterrupt\n",
      "  File \"/Users/jakecunningham/opt/anaconda3/lib/python3.7/site-packages/numpy/lib/twodim_base.py\", line 273, in diag\n",
      "    if len(s) == 1:\n",
      "  File \"/Users/jakecunningham/opt/anaconda3/lib/python3.7/multiprocessing/process.py\", line 297, in _bootstrap\n",
      "    self.run()\n",
      "KeyboardInterrupt\n",
      "  File \"/Users/jakecunningham/opt/anaconda3/lib/python3.7/multiprocessing/process.py\", line 99, in run\n",
      "    self._target(*self._args, **self._kwargs)\n",
      "  File \"/Users/jakecunningham/opt/anaconda3/lib/python3.7/multiprocessing/pool.py\", line 121, in worker\n",
      "    result = (True, func(*args, **kwds))\n",
      "  File \"/Users/jakecunningham/opt/anaconda3/lib/python3.7/multiprocessing/pool.py\", line 44, in mapstar\n",
      "    return list(map(*args))\n",
      "  File \"<ipython-input-5-a9fbf9a3d37d>\", line 15, in higgins_convolution_parallel_variable_f_variable_k_equator1\n",
      "    for lon in tqdm(range(lons)):\n",
      "  File \"/Users/jakecunningham/opt/anaconda3/lib/python3.7/site-packages/tqdm/notebook.py\", line 213, in __init__\n",
      "    self.fp, total, self.desc, self.ncols)\n",
      "  File \"/Users/jakecunningham/opt/anaconda3/lib/python3.7/site-packages/tqdm/notebook.py\", line 122, in status_printer\n",
      "    container = HBox(children=[pbar, ptext])\n",
      "  File \"/Users/jakecunningham/opt/anaconda3/lib/python3.7/site-packages/ipywidgets/widgets/widget_box.py\", line 64, in __init__\n",
      "    super(Box, self).__init__(**kwargs)\n",
      "  File \"/Users/jakecunningham/opt/anaconda3/lib/python3.7/site-packages/ipywidgets/widgets/widget.py\", line 415, in __init__\n",
      "    self.open()\n",
      "  File \"/Users/jakecunningham/opt/anaconda3/lib/python3.7/site-packages/ipywidgets/widgets/widget.py\", line 438, in open\n",
      "    self.comm = Comm(**args)\n",
      "  File \"/Users/jakecunningham/opt/anaconda3/lib/python3.7/site-packages/ipykernel/comm/comm.py\", line 57, in __init__\n",
      "    self.open(data=data, metadata=metadata, buffers=buffers)\n",
      "  File \"/Users/jakecunningham/opt/anaconda3/lib/python3.7/site-packages/ipykernel/comm/comm.py\", line 94, in open\n",
      "    target_module=self.target_module,\n",
      "  File \"/Users/jakecunningham/opt/anaconda3/lib/python3.7/site-packages/ipykernel/comm/comm.py\", line 71, in _publish_msg\n",
      "    buffers=buffers,\n",
      "  File \"/Users/jakecunningham/opt/anaconda3/lib/python3.7/site-packages/jupyter_client/session.py\", line 748, in send\n",
      "    stream.send_multipart(to_send, copy=copy)\n",
      "  File \"/Users/jakecunningham/opt/anaconda3/lib/python3.7/site-packages/ipykernel/iostream.py\", line 264, in send_multipart\n",
      "    return self.io_thread.send_multipart(*args, **kwargs)\n",
      "  File \"/Users/jakecunningham/opt/anaconda3/lib/python3.7/site-packages/ipykernel/iostream.py\", line 214, in send_multipart\n",
      "    self.schedule(lambda : self._really_send(*args, **kwargs))\n",
      "  File \"/Users/jakecunningham/opt/anaconda3/lib/python3.7/site-packages/ipykernel/iostream.py\", line 207, in schedule\n",
      "    f()\n",
      "  File \"/Users/jakecunningham/opt/anaconda3/lib/python3.7/site-packages/ipykernel/iostream.py\", line 214, in <lambda>\n",
      "    self.schedule(lambda : self._really_send(*args, **kwargs))\n",
      "  File \"/Users/jakecunningham/opt/anaconda3/lib/python3.7/site-packages/ipykernel/iostream.py\", line 228, in _really_send\n",
      "    pipe_out.send_multipart([self._pipe_uuid] + msg, *args, **kwargs)\n",
      "  File \"/Users/jakecunningham/opt/anaconda3/lib/python3.7/site-packages/zmq/sugar/socket.py\", line 445, in send_multipart\n",
      "    self.send(msg, SNDMORE|flags, copy=copy, track=track)\n"
     ]
    },
    {
     "name": "stdout",
     "output_type": "stream",
     "text": [
      "84\n"
     ]
    },
    {
     "name": "stderr",
     "output_type": "stream",
     "text": [
      "  File \"/Users/jakecunningham/opt/anaconda3/lib/python3.7/site-packages/zmq/sugar/socket.py\", line 400, in send\n",
      "    return super(Socket, self).send(data, flags=flags, copy=copy, track=track)\n",
      "  File \"zmq/backend/cython/socket.pyx\", line 728, in zmq.backend.cython.socket.Socket.send\n"
     ]
    },
    {
     "name": "stdout",
     "output_type": "stream",
     "text": [
      "91\n"
     ]
    },
    {
     "name": "stderr",
     "output_type": "stream",
     "text": [
      "  File \"zmq/backend/cython/socket.pyx\", line 775, in zmq.backend.cython.socket.Socket.send\n"
     ]
    },
    {
     "name": "stdout",
     "output_type": "stream",
     "text": [
      "98\n"
     ]
    },
    {
     "name": "stderr",
     "output_type": "stream",
     "text": [
      "  File \"zmq/backend/cython/socket.pyx\", line 242, in zmq.backend.cython.socket._send_copy\n",
      "  File \"zmq/backend/cython/checkrc.pxd\", line 12, in zmq.backend.cython.checkrc._check_rc\n",
      "KeyboardInterrupt\n"
     ]
    },
    {
     "name": "stdout",
     "output_type": "stream",
     "text": [
      "105\n",
      "112\n",
      "119\n",
      "126\n",
      "133\n",
      "140\n"
     ]
    },
    {
     "data": {
      "application/vnd.jupyter.widget-view+json": {
       "model_id": "eef874ee46bd4e6089f9c27ca1367467",
       "version_major": 2,
       "version_minor": 0
      },
      "text/plain": [
       "HBox(children=(IntProgress(value=0, max=720), HTML(value='')))"
      ]
     },
     "metadata": {},
     "output_type": "display_data"
    },
    {
     "data": {
      "application/vnd.jupyter.widget-view+json": {
       "model_id": "584bc0442f8b4cf48decedab6bea9553",
       "version_major": 2,
       "version_minor": 0
      },
      "text/plain": [
       "HBox(children=(IntProgress(value=0, max=720), HTML(value='')))"
      ]
     },
     "metadata": {},
     "output_type": "display_data"
    },
    {
     "name": "stdout",
     "output_type": "stream",
     "text": [
      "147\n"
     ]
    },
    {
     "data": {
      "application/vnd.jupyter.widget-view+json": {
       "model_id": "a8246cf271b649488b491d44b1bc5944",
       "version_major": 2,
       "version_minor": 0
      },
      "text/plain": [
       "HBox(children=(IntProgress(value=0, max=720), HTML(value='')))"
      ]
     },
     "metadata": {},
     "output_type": "display_data"
    },
    {
     "name": "stdout",
     "output_type": "stream",
     "text": [
      "154\n"
     ]
    },
    {
     "data": {
      "application/vnd.jupyter.widget-view+json": {
       "model_id": "e5f0ade55c064bf499913c49d6d4b65d",
       "version_major": 2,
       "version_minor": 0
      },
      "text/plain": [
       "HBox(children=(IntProgress(value=0, max=720), HTML(value='')))"
      ]
     },
     "metadata": {},
     "output_type": "display_data"
    },
    {
     "data": {
      "application/vnd.jupyter.widget-view+json": {
       "model_id": "d205b49cd3084eddb7ad666ee638956b",
       "version_major": 2,
       "version_minor": 0
      },
      "text/plain": [
       "HBox(children=(IntProgress(value=0, max=720), HTML(value='')))"
      ]
     },
     "metadata": {},
     "output_type": "display_data"
    },
    {
     "data": {
      "application/vnd.jupyter.widget-view+json": {
       "model_id": "b27bc27c004c46fcb2658e5f241c223a",
       "version_major": 2,
       "version_minor": 0
      },
      "text/plain": [
       "HBox(children=(IntProgress(value=0, max=720), HTML(value='')))"
      ]
     },
     "metadata": {},
     "output_type": "display_data"
    },
    {
     "data": {
      "application/vnd.jupyter.widget-view+json": {
       "model_id": "9ec068d22c414a08b62b6d73ddefc8ea",
       "version_major": 2,
       "version_minor": 0
      },
      "text/plain": [
       "HBox(children=(IntProgress(value=0, max=720), HTML(value='')))"
      ]
     },
     "metadata": {},
     "output_type": "display_data"
    },
    {
     "data": {
      "application/vnd.jupyter.widget-view+json": {
       "model_id": "b4b61830b1aa4a7e913a6beba6885d57",
       "version_major": 2,
       "version_minor": 0
      },
      "text/plain": [
       "HBox(children=(IntProgress(value=0, max=720), HTML(value='')))"
      ]
     },
     "metadata": {},
     "output_type": "display_data"
    },
    {
     "data": {
      "application/vnd.jupyter.widget-view+json": {
       "model_id": "116ad8c83c84411695e0093ad721b8e9",
       "version_major": 2,
       "version_minor": 0
      },
      "text/plain": [
       "HBox(children=(IntProgress(value=0, max=720), HTML(value='')))"
      ]
     },
     "metadata": {},
     "output_type": "display_data"
    },
    {
     "data": {
      "application/vnd.jupyter.widget-view+json": {
       "model_id": "3e3a1e5036764dac8794d0ebb157745f",
       "version_major": 2,
       "version_minor": 0
      },
      "text/plain": [
       "HBox(children=(IntProgress(value=0, max=720), HTML(value='')))"
      ]
     },
     "metadata": {},
     "output_type": "display_data"
    },
    {
     "data": {
      "application/vnd.jupyter.widget-view+json": {
       "model_id": "a1d77edc48c840b0ae0aa578f9f4f8c6",
       "version_major": 2,
       "version_minor": 0
      },
      "text/plain": [
       "HBox(children=(IntProgress(value=0, max=720), HTML(value='')))"
      ]
     },
     "metadata": {},
     "output_type": "display_data"
    },
    {
     "name": "stdout",
     "output_type": "stream",
     "text": [
      "161\n"
     ]
    },
    {
     "data": {
      "application/vnd.jupyter.widget-view+json": {
       "model_id": "7f11ff68d272461c917dc3f232170d61",
       "version_major": 2,
       "version_minor": 0
      },
      "text/plain": [
       "HBox(children=(IntProgress(value=0, max=720), HTML(value='')))"
      ]
     },
     "metadata": {},
     "output_type": "display_data"
    },
    {
     "name": "stdout",
     "output_type": "stream",
     "text": [
      "\n",
      "113\n"
     ]
    },
    {
     "data": {
      "application/vnd.jupyter.widget-view+json": {
       "model_id": "438cde0069e74d5f9c243addb3e3f699",
       "version_major": 2,
       "version_minor": 0
      },
      "text/plain": [
       "HBox(children=(IntProgress(value=0, max=720), HTML(value='')))"
      ]
     },
     "metadata": {},
     "output_type": "display_data"
    },
    {
     "name": "stdout",
     "output_type": "stream",
     "text": [
      "\n",
      "148\n"
     ]
    },
    {
     "data": {
      "application/vnd.jupyter.widget-view+json": {
       "model_id": "2dbef82e956a48edae2e28ed702cd0f2",
       "version_major": 2,
       "version_minor": 0
      },
      "text/plain": [
       "HBox(children=(IntProgress(value=0, max=720), HTML(value='')))"
      ]
     },
     "metadata": {},
     "output_type": "display_data"
    },
    {
     "name": "stdout",
     "output_type": "stream",
     "text": [
      "\n",
      "155\n"
     ]
    },
    {
     "data": {
      "application/vnd.jupyter.widget-view+json": {
       "model_id": "554a153477d045dfaaf57f04f9d0483b",
       "version_major": 2,
       "version_minor": 0
      },
      "text/plain": [
       "HBox(children=(IntProgress(value=0, max=720), HTML(value='')))"
      ]
     },
     "metadata": {},
     "output_type": "display_data"
    },
    {
     "name": "stdout",
     "output_type": "stream",
     "text": [
      "\n",
      "120\n"
     ]
    },
    {
     "data": {
      "application/vnd.jupyter.widget-view+json": {
       "model_id": "8baf5a67654b41948238bf180fb0edf2",
       "version_major": 2,
       "version_minor": 0
      },
      "text/plain": [
       "HBox(children=(IntProgress(value=0, max=720), HTML(value='')))"
      ]
     },
     "metadata": {},
     "output_type": "display_data"
    },
    {
     "name": "stdout",
     "output_type": "stream",
     "text": [
      "\n",
      "127\n"
     ]
    },
    {
     "data": {
      "application/vnd.jupyter.widget-view+json": {
       "model_id": "04c7c792048748459db9ad7d3a005dea",
       "version_major": 2,
       "version_minor": 0
      },
      "text/plain": [
       "HBox(children=(IntProgress(value=0, max=720), HTML(value='')))"
      ]
     },
     "metadata": {},
     "output_type": "display_data"
    },
    {
     "name": "stdout",
     "output_type": "stream",
     "text": [
      "\n",
      "141\n"
     ]
    },
    {
     "data": {
      "application/vnd.jupyter.widget-view+json": {
       "model_id": "3a07de77d1694d1d83d3eebb1682ce48",
       "version_major": 2,
       "version_minor": 0
      },
      "text/plain": [
       "HBox(children=(IntProgress(value=0, max=720), HTML(value='')))"
      ]
     },
     "metadata": {},
     "output_type": "display_data"
    },
    {
     "name": "stdout",
     "output_type": "stream",
     "text": [
      "\n",
      "106\n"
     ]
    },
    {
     "data": {
      "application/vnd.jupyter.widget-view+json": {
       "model_id": "b1cd6ad84f3a400d9872f740d826b481",
       "version_major": 2,
       "version_minor": 0
      },
      "text/plain": [
       "HBox(children=(IntProgress(value=0, max=720), HTML(value='')))"
      ]
     },
     "metadata": {},
     "output_type": "display_data"
    },
    {
     "name": "stdout",
     "output_type": "stream",
     "text": [
      "\n",
      "99\n"
     ]
    },
    {
     "data": {
      "application/vnd.jupyter.widget-view+json": {
       "model_id": "3611330160f445f9977b1d872a85a74d",
       "version_major": 2,
       "version_minor": 0
      },
      "text/plain": [
       "HBox(children=(IntProgress(value=0, max=720), HTML(value='')))"
      ]
     },
     "metadata": {},
     "output_type": "display_data"
    },
    {
     "name": "stdout",
     "output_type": "stream",
     "text": [
      "\n",
      "162\n"
     ]
    },
    {
     "data": {
      "application/vnd.jupyter.widget-view+json": {
       "model_id": "313ca413607642f1b668f5df1c111c09",
       "version_major": 2,
       "version_minor": 0
      },
      "text/plain": [
       "HBox(children=(IntProgress(value=0, max=720), HTML(value='')))"
      ]
     },
     "metadata": {},
     "output_type": "display_data"
    },
    {
     "name": "stdout",
     "output_type": "stream",
     "text": [
      "\n",
      "134\n"
     ]
    },
    {
     "data": {
      "application/vnd.jupyter.widget-view+json": {
       "model_id": "57294f97afec4c369670000d07dbc299",
       "version_major": 2,
       "version_minor": 0
      },
      "text/plain": [
       "HBox(children=(IntProgress(value=0, max=720), HTML(value='')))"
      ]
     },
     "metadata": {},
     "output_type": "display_data"
    },
    {
     "name": "stdout",
     "output_type": "stream",
     "text": [
      "\n",
      "92\n"
     ]
    },
    {
     "data": {
      "application/vnd.jupyter.widget-view+json": {
       "model_id": "03e90dc4e53448ca826ff675d3e71006",
       "version_major": 2,
       "version_minor": 0
      },
      "text/plain": [
       "HBox(children=(IntProgress(value=0, max=720), HTML(value='')))"
      ]
     },
     "metadata": {},
     "output_type": "display_data"
    }
   ],
   "source": [
    "for master in range(len(index_start)-1):\n",
    "    master = master + 52 \n",
    "    j = index_start[master+1]\n",
    "    i = index_start[master] - 300\n",
    "    m = index_start[master]\n",
    "    \n",
    "    if i < 0:\n",
    "        i = 0\n",
    "        \n",
    "    stamp = j\n",
    "    print(stamp)\n",
    "    \n",
    "    location_stokes = '/Volumes/4YP/Data/Stokes_3hr/Stokes'\n",
    "    file_type = '.nc'\n",
    "    paths_stokes = []\n",
    "    for n in range(i,j):\n",
    "        s = str(n).zfill(6)\n",
    "        paths_stokes.append(location_stokes + s + file_type)\n",
    "    Us_file = loader_Stokes(paths_stokes)\n",
    "    Us_u_array = Us_file.uuss.values\n",
    "    Us_v_array = Us_file.vuss.values\n",
    "    time = Us_file.uuss['time'].values\n",
    "    \n",
    "    location_PFreq = '/Volumes/4YP/Data/PFreq_3hr/PFreq'\n",
    "    file_type = '.nc'\n",
    "    paths_PFreq = []\n",
    "    for n in range(m,j):\n",
    "        s = str(n).zfill(6)\n",
    "        paths_PFreq.append(location_PFreq + s + file_type)\n",
    "    PF_file = loader_Stokes(paths_PFreq)\n",
    "    k_file = ((2*np.pi*PF_file.fp)**2)/9.81\n",
    "    k_array = k_file.mean('time').values\n",
    "    \n",
    "    location_viscosity = '/Volumes/JCHD/Microplastics_Paper/Data/Az_24hr/Az'\n",
    "    file_type = '.nc'\n",
    "    paths_viscosity = []\n",
    "    ds = dates[int(m/8):int(j/8)]\n",
    "    if master > 38:\n",
    "        new_master = master - 4\n",
    "        j = index_start[new_master+1]\n",
    "        i = index_start[new_master] - 300\n",
    "        m = index_start[new_master]\n",
    "    if master > 42:\n",
    "        new_master = master - 8\n",
    "        j = index_start[new_master+1]\n",
    "        i = index_start[new_master] - 300\n",
    "        m = index_start[new_master]\n",
    "    if master > 46:\n",
    "        new_master = master - 12\n",
    "        j = index_start[new_master+1]\n",
    "        i = index_start[new_master] - 300\n",
    "        m = index_start[new_master]\n",
    "    if master > 50:\n",
    "        new_master = master - 16\n",
    "        j = index_start[new_master+1]\n",
    "        i = index_start[new_master] - 300\n",
    "        m = index_start[new_master]\n",
    "    ds = dates[int(m/8):int(j/8)]\n",
    "    for i in range(len(ds)):\n",
    "        paths_viscosity.append(location_viscosity + ds[i] + file_type)\n",
    "    Az_file = loader_Stokes(paths_viscosity)\n",
    "    Az_array = Az_file.Az.mean('time').values\n",
    "    \n",
    "    lat = list(range(len(Us_file.latitude)))\n",
    "    lons = len(Us_file.longitude)\n",
    "\n",
    "    cpus = mp.cpu_count()\n",
    "    p=mp.Pool(cpus)\n",
    "    output = p.map(higgins_convolution_parallel_variable_f_variable_k_equator1, tqdm(lat))\n",
    "    data = np.concatenate(output, axis=1)\n",
    "\n",
    "    dims = ('time', 'latitude', 'longitude')\n",
    "\n",
    "    U_ek = xarray.Dataset(\n",
    "        data_vars={\n",
    "                'U': (dims, data.real),\n",
    "                'V': (dims, data.imag)},\n",
    "        coords={\n",
    "                'time': Us_file.time,\n",
    "                'latitude': Us_file.latitude,\n",
    "                'longitude': Us_file.longitude}\n",
    "    )\n",
    "    \n",
    "    save_location = '/Volumes/JCHD/Microplastics_Paper/Data/Eulerian_3hr/Eulerian'\n",
    "    save_file_type_npy = '.npy'\n",
    "    save_file_type_nc = '.nc'\n",
    "        \n",
    "    save_path_npy = save_location + str(stamp).zfill(6) + save_file_type_npy\n",
    "    save_path_nc = save_location + str(stamp).zfill(6) + save_file_type_nc\n",
    "    \n",
    "    np.save(save_path_npy, data)\n",
    "    U_ek.to_netcdf(save_path_nc)\n",
    "    \n",
    "    del data\n",
    "    del output\n",
    "    del U_ek\n",
    "    del Us_u_array\n",
    "    del Us_file\n",
    "    "
   ]
  },
  {
   "cell_type": "code",
   "execution_count": null,
   "metadata": {},
   "outputs": [],
   "source": []
  }
 ],
 "metadata": {
  "kernelspec": {
   "display_name": "Python 3",
   "language": "python",
   "name": "python3"
  },
  "language_info": {
   "codemirror_mode": {
    "name": "ipython",
    "version": 3
   },
   "file_extension": ".py",
   "mimetype": "text/x-python",
   "name": "python",
   "nbconvert_exporter": "python",
   "pygments_lexer": "ipython3",
   "version": "3.7.4"
  }
 },
 "nbformat": 4,
 "nbformat_minor": 4
}
